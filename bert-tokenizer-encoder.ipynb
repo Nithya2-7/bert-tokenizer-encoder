{
  "nbformat": 4,
  "nbformat_minor": 0,
  "metadata": {
    "colab": {
      "provenance": []
    },
    "kernelspec": {
      "name": "python3",
      "display_name": "Python 3"
    },
    "language_info": {
      "name": "python"
    }
  },
  "cells": [
    {
      "cell_type": "code",
      "execution_count": null,
      "metadata": {
        "id": "jTcn2kuso1MA"
      },
      "outputs": [],
      "source": [
        "from transformers import BertTokenizer\n",
        "\n",
        "tokenizer= BertTokenizer.from_pretrained('bert-base-uncased')\n",
        "\n",
        "text= \"Hey there this is my first Internship\"\n",
        "tokens = tokenizer.tokenize(text)\n",
        "print(\"Tokens:\",tokens)\n",
        "\n",
        "encoded= tokenizer.encode(text)\n",
        "print(\"Encoded IDs\",encoded)"
      ]
    }
  ]
}